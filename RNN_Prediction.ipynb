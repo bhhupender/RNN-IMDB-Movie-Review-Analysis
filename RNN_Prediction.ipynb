{
  "nbformat": 4,
  "nbformat_minor": 0,
  "metadata": {
    "colab": {
      "provenance": []
    },
    "kernelspec": {
      "name": "python3",
      "display_name": "Python 3"
    },
    "language_info": {
      "name": "python"
    }
  },
  "cells": [
    {
      "cell_type": "code",
      "execution_count": 1,
      "metadata": {
        "id": "J7NgBM1XSN4Y"
      },
      "outputs": [],
      "source": [
        "# Step 1: Import Libraries and Load the Model\n",
        "import numpy as np\n",
        "import tensorflow as tf\n",
        "from tensorflow.keras.datasets import imdb\n",
        "from tensorflow.keras.preprocessing import sequence\n",
        "from tensorflow.keras.models import load_model"
      ]
    },
    {
      "cell_type": "code",
      "source": [
        "# Load the IMDB dataset word index\n",
        "word_index = imdb.get_word_index()\n",
        "reverse_word_index = {value: key for key, value in word_index.items()}"
      ],
      "metadata": {
        "colab": {
          "base_uri": "https://localhost:8080/"
        },
        "id": "g7HGomrESlE1",
        "outputId": "9fa456ae-1c83-4aba-ef68-5e6377bb33ec"
      },
      "execution_count": 2,
      "outputs": [
        {
          "output_type": "stream",
          "name": "stdout",
          "text": [
            "Downloading data from https://storage.googleapis.com/tensorflow/tf-keras-datasets/imdb_word_index.json\n",
            "\u001b[1m1641221/1641221\u001b[0m \u001b[32m━━━━━━━━━━━━━━━━━━━━\u001b[0m\u001b[37m\u001b[0m \u001b[1m0s\u001b[0m 0us/step\n"
          ]
        }
      ]
    },
    {
      "cell_type": "code",
      "source": [
        "# Load the pre-trained model with ReLU activation\n",
        "model = load_model('simple_rnn_imdb1.h5')\n",
        "model.summary()"
      ],
      "metadata": {
        "colab": {
          "base_uri": "https://localhost:8080/",
          "height": 278
        },
        "id": "JkLqTkiFSo7-",
        "outputId": "389408cc-4aee-4da1-b85a-9745b3d2c782"
      },
      "execution_count": 4,
      "outputs": [
        {
          "output_type": "stream",
          "name": "stderr",
          "text": [
            "WARNING:absl:Compiled the loaded model, but the compiled metrics have yet to be built. `model.compile_metrics` will be empty until you train or evaluate the model.\n"
          ]
        },
        {
          "output_type": "display_data",
          "data": {
            "text/plain": [
              "\u001b[1mModel: \"sequential\"\u001b[0m\n"
            ],
            "text/html": [
              "<pre style=\"white-space:pre;overflow-x:auto;line-height:normal;font-family:Menlo,'DejaVu Sans Mono',consolas,'Courier New',monospace\"><span style=\"font-weight: bold\">Model: \"sequential\"</span>\n",
              "</pre>\n"
            ]
          },
          "metadata": {}
        },
        {
          "output_type": "display_data",
          "data": {
            "text/plain": [
              "┏━━━━━━━━━━━━━━━━━━━━━━━━━━━━━━━━━━━━━━┳━━━━━━━━━━━━━━━━━━━━━━━━━━━━━┳━━━━━━━━━━━━━━━━━┓\n",
              "┃\u001b[1m \u001b[0m\u001b[1mLayer (type)                        \u001b[0m\u001b[1m \u001b[0m┃\u001b[1m \u001b[0m\u001b[1mOutput Shape               \u001b[0m\u001b[1m \u001b[0m┃\u001b[1m \u001b[0m\u001b[1m        Param #\u001b[0m\u001b[1m \u001b[0m┃\n",
              "┡━━━━━━━━━━━━━━━━━━━━━━━━━━━━━━━━━━━━━━╇━━━━━━━━━━━━━━━━━━━━━━━━━━━━━╇━━━━━━━━━━━━━━━━━┩\n",
              "│ embedding (\u001b[38;5;33mEmbedding\u001b[0m)                │ (\u001b[38;5;45mNone\u001b[0m, \u001b[38;5;34m500\u001b[0m, \u001b[38;5;34m128\u001b[0m)            │       \u001b[38;5;34m1,280,000\u001b[0m │\n",
              "├──────────────────────────────────────┼─────────────────────────────┼─────────────────┤\n",
              "│ simple_rnn (\u001b[38;5;33mSimpleRNN\u001b[0m)               │ (\u001b[38;5;45mNone\u001b[0m, \u001b[38;5;34m128\u001b[0m)                 │          \u001b[38;5;34m32,896\u001b[0m │\n",
              "├──────────────────────────────────────┼─────────────────────────────┼─────────────────┤\n",
              "│ dense (\u001b[38;5;33mDense\u001b[0m)                        │ (\u001b[38;5;45mNone\u001b[0m, \u001b[38;5;34m1\u001b[0m)                   │             \u001b[38;5;34m129\u001b[0m │\n",
              "└──────────────────────────────────────┴─────────────────────────────┴─────────────────┘\n"
            ],
            "text/html": [
              "<pre style=\"white-space:pre;overflow-x:auto;line-height:normal;font-family:Menlo,'DejaVu Sans Mono',consolas,'Courier New',monospace\">┏━━━━━━━━━━━━━━━━━━━━━━━━━━━━━━━━━━━━━━┳━━━━━━━━━━━━━━━━━━━━━━━━━━━━━┳━━━━━━━━━━━━━━━━━┓\n",
              "┃<span style=\"font-weight: bold\"> Layer (type)                         </span>┃<span style=\"font-weight: bold\"> Output Shape                </span>┃<span style=\"font-weight: bold\">         Param # </span>┃\n",
              "┡━━━━━━━━━━━━━━━━━━━━━━━━━━━━━━━━━━━━━━╇━━━━━━━━━━━━━━━━━━━━━━━━━━━━━╇━━━━━━━━━━━━━━━━━┩\n",
              "│ embedding (<span style=\"color: #0087ff; text-decoration-color: #0087ff\">Embedding</span>)                │ (<span style=\"color: #00d7ff; text-decoration-color: #00d7ff\">None</span>, <span style=\"color: #00af00; text-decoration-color: #00af00\">500</span>, <span style=\"color: #00af00; text-decoration-color: #00af00\">128</span>)            │       <span style=\"color: #00af00; text-decoration-color: #00af00\">1,280,000</span> │\n",
              "├──────────────────────────────────────┼─────────────────────────────┼─────────────────┤\n",
              "│ simple_rnn (<span style=\"color: #0087ff; text-decoration-color: #0087ff\">SimpleRNN</span>)               │ (<span style=\"color: #00d7ff; text-decoration-color: #00d7ff\">None</span>, <span style=\"color: #00af00; text-decoration-color: #00af00\">128</span>)                 │          <span style=\"color: #00af00; text-decoration-color: #00af00\">32,896</span> │\n",
              "├──────────────────────────────────────┼─────────────────────────────┼─────────────────┤\n",
              "│ dense (<span style=\"color: #0087ff; text-decoration-color: #0087ff\">Dense</span>)                        │ (<span style=\"color: #00d7ff; text-decoration-color: #00d7ff\">None</span>, <span style=\"color: #00af00; text-decoration-color: #00af00\">1</span>)                   │             <span style=\"color: #00af00; text-decoration-color: #00af00\">129</span> │\n",
              "└──────────────────────────────────────┴─────────────────────────────┴─────────────────┘\n",
              "</pre>\n"
            ]
          },
          "metadata": {}
        },
        {
          "output_type": "display_data",
          "data": {
            "text/plain": [
              "\u001b[1m Total params: \u001b[0m\u001b[38;5;34m1,313,027\u001b[0m (5.01 MB)\n"
            ],
            "text/html": [
              "<pre style=\"white-space:pre;overflow-x:auto;line-height:normal;font-family:Menlo,'DejaVu Sans Mono',consolas,'Courier New',monospace\"><span style=\"font-weight: bold\"> Total params: </span><span style=\"color: #00af00; text-decoration-color: #00af00\">1,313,027</span> (5.01 MB)\n",
              "</pre>\n"
            ]
          },
          "metadata": {}
        },
        {
          "output_type": "display_data",
          "data": {
            "text/plain": [
              "\u001b[1m Trainable params: \u001b[0m\u001b[38;5;34m1,313,025\u001b[0m (5.01 MB)\n"
            ],
            "text/html": [
              "<pre style=\"white-space:pre;overflow-x:auto;line-height:normal;font-family:Menlo,'DejaVu Sans Mono',consolas,'Courier New',monospace\"><span style=\"font-weight: bold\"> Trainable params: </span><span style=\"color: #00af00; text-decoration-color: #00af00\">1,313,025</span> (5.01 MB)\n",
              "</pre>\n"
            ]
          },
          "metadata": {}
        },
        {
          "output_type": "display_data",
          "data": {
            "text/plain": [
              "\u001b[1m Non-trainable params: \u001b[0m\u001b[38;5;34m0\u001b[0m (0.00 B)\n"
            ],
            "text/html": [
              "<pre style=\"white-space:pre;overflow-x:auto;line-height:normal;font-family:Menlo,'DejaVu Sans Mono',consolas,'Courier New',monospace\"><span style=\"font-weight: bold\"> Non-trainable params: </span><span style=\"color: #00af00; text-decoration-color: #00af00\">0</span> (0.00 B)\n",
              "</pre>\n"
            ]
          },
          "metadata": {}
        },
        {
          "output_type": "display_data",
          "data": {
            "text/plain": [
              "\u001b[1m Optimizer params: \u001b[0m\u001b[38;5;34m2\u001b[0m (12.00 B)\n"
            ],
            "text/html": [
              "<pre style=\"white-space:pre;overflow-x:auto;line-height:normal;font-family:Menlo,'DejaVu Sans Mono',consolas,'Courier New',monospace\"><span style=\"font-weight: bold\"> Optimizer params: </span><span style=\"color: #00af00; text-decoration-color: #00af00\">2</span> (12.00 B)\n",
              "</pre>\n"
            ]
          },
          "metadata": {}
        }
      ]
    },
    {
      "cell_type": "code",
      "source": [
        "model.get_weights()"
      ],
      "metadata": {
        "colab": {
          "base_uri": "https://localhost:8080/"
        },
        "id": "p7m83eFwSrYB",
        "outputId": "23005a16-f0ac-481c-a067-d527cd56d7d3"
      },
      "execution_count": 5,
      "outputs": [
        {
          "output_type": "execute_result",
          "data": {
            "text/plain": [
              "[array([[ 8.9750236e-01,  1.4314287e+00,  2.9575542e-01, ...,\n",
              "          2.9413509e-01, -3.4286350e-01, -1.3547658e+00],\n",
              "        [ 1.9070340e-02,  9.2431657e-02,  3.3454806e-02, ...,\n",
              "         -5.6363299e-02, -2.9838426e-02,  9.1039734e-03],\n",
              "        [-3.1921025e-02,  4.4947404e-02, -1.2646973e-02, ...,\n",
              "         -1.3144077e-01, -1.6559200e-02,  1.5909133e-02],\n",
              "        ...,\n",
              "        [ 7.3134623e-02,  8.4543020e-02, -5.8701605e-02, ...,\n",
              "          9.4504319e-02, -3.9227884e-02, -9.8003112e-02],\n",
              "        [-6.0790814e-02,  4.0475432e-02,  6.2228858e-02, ...,\n",
              "         -5.6412306e-02, -2.0934869e-02,  2.7726269e-03],\n",
              "        [ 5.5802822e-02, -3.6861334e-02, -2.5447529e-02, ...,\n",
              "          3.1323772e-02, -3.5138259e-04, -9.5088921e-02]], dtype=float32),\n",
              " array([[ 0.11869729, -0.15291823,  0.01256872, ..., -0.1147207 ,\n",
              "          0.1661993 , -0.13665994],\n",
              "        [-0.06787754, -0.16545285, -0.01620044, ..., -0.0932136 ,\n",
              "          0.05956433,  0.03605686],\n",
              "        [-0.04272427, -0.07683357,  0.08114614, ...,  0.12233786,\n",
              "          0.09277216, -0.08430959],\n",
              "        ...,\n",
              "        [ 0.21128502,  0.00266792,  0.17243487, ...,  0.07071994,\n",
              "          0.02487887,  0.02716598],\n",
              "        [ 0.07808778,  0.05639291, -0.00926557, ...,  0.01384007,\n",
              "         -0.02838165,  0.1005732 ],\n",
              "        [ 0.06293739, -0.11829934,  0.14250384, ...,  0.08234501,\n",
              "         -0.02982807,  0.14583197]], dtype=float32),\n",
              " array([[ 0.1346363 , -0.08729334, -0.00345342, ...,  0.03997241,\n",
              "         -0.02866039, -0.07793502],\n",
              "        [-0.08823759, -0.03338461, -0.02133737, ..., -0.09558172,\n",
              "         -0.01080085, -0.06436341],\n",
              "        [ 0.05243857, -0.11658876, -0.2556689 , ...,  0.00162311,\n",
              "          0.04912284, -0.02467727],\n",
              "        ...,\n",
              "        [ 0.06298419,  0.14418203, -0.16733539, ..., -0.04906226,\n",
              "          0.18830098,  0.11156522],\n",
              "        [-0.05804197, -0.02344267, -0.11838119, ...,  0.03971145,\n",
              "         -0.0300629 , -0.00261683],\n",
              "        [ 0.07880665, -0.1607888 , -0.05391113, ..., -0.05766282,\n",
              "         -0.07042174,  0.05601148]], dtype=float32),\n",
              " array([-0.01813417, -0.04812893, -0.01961351,  0.00058408, -0.03963686,\n",
              "        -0.02355273, -0.01960449, -0.013948  , -0.00180045, -0.02458258,\n",
              "         0.01377116, -0.01120669, -0.0166413 ,  0.00407395, -0.00214153,\n",
              "         0.00251672, -0.02181928, -0.00964052, -0.02523885, -0.06849605,\n",
              "        -0.01814631, -0.03382023, -0.04115228, -0.00545474, -0.02453771,\n",
              "        -0.03200104, -0.00710484, -0.03129603,  0.00463914,  0.04994495,\n",
              "        -0.00942759, -0.015739  , -0.04243252, -0.04434569, -0.02615301,\n",
              "        -0.02742976, -0.00684136, -0.03117404, -0.0306571 , -0.03168125,\n",
              "        -0.02422857,  0.00656915,  0.0056152 , -0.00368803, -0.02257123,\n",
              "        -0.04329097,  0.01705653, -0.0137789 ,  0.00317934, -0.04828449,\n",
              "        -0.03750553,  0.02855115,  0.02922825, -0.03417432, -0.0271263 ,\n",
              "        -0.04700433, -0.02787586, -0.04846157, -0.01592683, -0.03389173,\n",
              "         0.0157875 ,  0.03266992,  0.00093962, -0.00422022,  0.03448088,\n",
              "        -0.04316276,  0.03308266, -0.04683794,  0.00503714, -0.03487735,\n",
              "        -0.03743811,  0.00749849, -0.01715223, -0.00187821,  0.00404181,\n",
              "        -0.01421756, -0.05768976, -0.03494308,  0.0158298 ,  0.01862737,\n",
              "         0.03646565, -0.00250175, -0.03524185, -0.01557074, -0.00171903,\n",
              "        -0.05953862, -0.04240118, -0.01091307, -0.0297152 , -0.04363028,\n",
              "        -0.00870807,  0.01989958, -0.03716633, -0.03464304,  0.06218307,\n",
              "        -0.04759169, -0.03308003,  0.01331061, -0.05221268, -0.01665603,\n",
              "        -0.00399886,  0.01334418, -0.00291683, -0.04493717,  0.03272209,\n",
              "        -0.00233149, -0.03355458, -0.00266285, -0.00446808, -0.03103112,\n",
              "         0.00470791, -0.04431322,  0.01393524, -0.03974543,  0.02555389,\n",
              "        -0.03676922,  0.01619819,  0.01412711, -0.0244188 , -0.00755098,\n",
              "         0.00467274, -0.02382307, -0.01961696,  0.00142324,  0.01803605,\n",
              "        -0.03535932, -0.03747293, -0.01019543], dtype=float32),\n",
              " array([[ 0.21962549],\n",
              "        [-0.09843686],\n",
              "        [-0.02566221],\n",
              "        [-0.00447138],\n",
              "        [-0.05937586],\n",
              "        [-0.08500415],\n",
              "        [-0.05729302],\n",
              "        [ 0.02966746],\n",
              "        [ 0.19382438],\n",
              "        [ 0.05875267],\n",
              "        [ 0.0051311 ],\n",
              "        [-0.08496263],\n",
              "        [-0.07034285],\n",
              "        [-0.5436759 ],\n",
              "        [-0.05695978],\n",
              "        [-0.23010863],\n",
              "        [ 0.0773598 ],\n",
              "        [ 0.2281982 ],\n",
              "        [ 0.27262247],\n",
              "        [-0.13319151],\n",
              "        [ 0.18708514],\n",
              "        [-0.09204945],\n",
              "        [-0.01737837],\n",
              "        [-0.06754319],\n",
              "        [ 0.10271931],\n",
              "        [ 0.09886058],\n",
              "        [ 0.11373594],\n",
              "        [-0.00941782],\n",
              "        [-0.09967826],\n",
              "        [ 0.07881333],\n",
              "        [-0.12480803],\n",
              "        [-0.17664248],\n",
              "        [ 0.19731073],\n",
              "        [ 0.17947748],\n",
              "        [ 0.1922865 ],\n",
              "        [ 0.0717243 ],\n",
              "        [-0.16817787],\n",
              "        [ 0.14360051],\n",
              "        [ 0.84905756],\n",
              "        [ 0.12642309],\n",
              "        [ 0.12442517],\n",
              "        [-0.20296346],\n",
              "        [ 0.2386698 ],\n",
              "        [-0.16000059],\n",
              "        [ 0.17400311],\n",
              "        [-0.83465534],\n",
              "        [-0.12163676],\n",
              "        [ 0.19159637],\n",
              "        [ 0.04847706],\n",
              "        [ 0.21239625],\n",
              "        [-0.6981406 ],\n",
              "        [ 0.13336605],\n",
              "        [-0.20746519],\n",
              "        [ 0.12028578],\n",
              "        [-0.56215984],\n",
              "        [-0.06494579],\n",
              "        [ 0.15581371],\n",
              "        [ 0.1807355 ],\n",
              "        [ 0.04128381],\n",
              "        [ 0.2818325 ],\n",
              "        [ 0.1256261 ],\n",
              "        [-0.04895239],\n",
              "        [ 0.20236917],\n",
              "        [ 0.08992998],\n",
              "        [-0.09660783],\n",
              "        [-0.05038977],\n",
              "        [-0.1003027 ],\n",
              "        [-0.15275513],\n",
              "        [ 0.07812999],\n",
              "        [ 0.20132992],\n",
              "        [ 0.13358927],\n",
              "        [-0.09628861],\n",
              "        [ 0.13846369],\n",
              "        [ 0.05065327],\n",
              "        [ 0.20260927],\n",
              "        [-0.29518425],\n",
              "        [-0.35741773],\n",
              "        [-0.1202563 ],\n",
              "        [ 1.0001037 ],\n",
              "        [ 0.01950382],\n",
              "        [-0.11237037],\n",
              "        [-0.08320098],\n",
              "        [ 0.10034767],\n",
              "        [ 0.03925067],\n",
              "        [ 0.23228805],\n",
              "        [ 0.32126573],\n",
              "        [ 0.08062365],\n",
              "        [-0.06657765],\n",
              "        [-0.19104864],\n",
              "        [-0.00691708],\n",
              "        [-0.2138822 ],\n",
              "        [ 0.1694322 ],\n",
              "        [ 0.02413932],\n",
              "        [ 0.13461265],\n",
              "        [-0.11119847],\n",
              "        [-0.15030044],\n",
              "        [ 0.11231367],\n",
              "        [ 0.09970794],\n",
              "        [ 0.1422794 ],\n",
              "        [-0.16266406],\n",
              "        [-0.82212013],\n",
              "        [-0.7178915 ],\n",
              "        [-0.18561824],\n",
              "        [ 0.13783535],\n",
              "        [-0.19885382],\n",
              "        [ 0.09526191],\n",
              "        [-0.0961201 ],\n",
              "        [ 0.13539198],\n",
              "        [ 0.41187075],\n",
              "        [ 0.01607943],\n",
              "        [-0.05366163],\n",
              "        [-0.15182358],\n",
              "        [ 0.5167897 ],\n",
              "        [ 0.09036405],\n",
              "        [-0.14850725],\n",
              "        [ 0.03599038],\n",
              "        [-0.18987544],\n",
              "        [-0.20128727],\n",
              "        [-0.07791352],\n",
              "        [ 0.38678515],\n",
              "        [ 0.17773046],\n",
              "        [ 0.15388925],\n",
              "        [ 0.04252845],\n",
              "        [-0.01506593],\n",
              "        [ 0.13556044],\n",
              "        [ 0.12480464],\n",
              "        [-0.18104728],\n",
              "        [ 0.13767539]], dtype=float32),\n",
              " array([0.28980204], dtype=float32)]"
            ]
          },
          "metadata": {},
          "execution_count": 5
        }
      ]
    },
    {
      "cell_type": "code",
      "source": [
        "# Step 2: Helper Functions\n",
        "# Function to decode reviews\n",
        "def decode_review(encoded_review):\n",
        "    return ' '.join([reverse_word_index.get(i - 3, '?') for i in encoded_review])\n",
        "\n",
        "# Function to preprocess user input\n",
        "def preprocess_text(text):\n",
        "    words = text.lower().split()\n",
        "    encoded_review = [word_index.get(word, 2) + 3 for word in words]\n",
        "    padded_review = sequence.pad_sequences([encoded_review], maxlen=500)\n",
        "    return padded_review"
      ],
      "metadata": {
        "id": "PkBlvwP8bEv2"
      },
      "execution_count": 6,
      "outputs": []
    },
    {
      "cell_type": "code",
      "source": [
        "### Prediction  function\n",
        "\n",
        "def predict_sentiment(review):\n",
        "    preprocessed_input=preprocess_text(review)\n",
        "\n",
        "    prediction=model.predict(preprocessed_input)\n",
        "\n",
        "    sentiment = 'Positive' if prediction[0][0] > 0.5 else 'Negative'\n",
        "\n",
        "    return sentiment, prediction[0][0]"
      ],
      "metadata": {
        "id": "AtfJ92GfcHe0"
      },
      "execution_count": 7,
      "outputs": []
    },
    {
      "cell_type": "code",
      "source": [
        "# Step 4: User Input and Prediction\n",
        "# Example review for prediction\n",
        "example_review = \"This movie was fantastic! The acting was great and the plot was thrilling.\"\n",
        "\n",
        "sentiment,score=predict_sentiment(example_review)\n",
        "\n",
        "print(f'Review: {example_review}')\n",
        "print(f'Sentiment: {sentiment}')\n",
        "print(f'Prediction Score: {score}')"
      ],
      "metadata": {
        "colab": {
          "base_uri": "https://localhost:8080/"
        },
        "id": "hUpBVbnecVcX",
        "outputId": "16f4fd6e-65da-4bfd-876e-5ee005cedc38"
      },
      "execution_count": 8,
      "outputs": [
        {
          "output_type": "stream",
          "name": "stdout",
          "text": [
            "\u001b[1m1/1\u001b[0m \u001b[32m━━━━━━━━━━━━━━━━━━━━\u001b[0m\u001b[37m\u001b[0m \u001b[1m0s\u001b[0m 233ms/step\n",
            "Review: This movie was fantastic! The acting was great and the plot was thrilling.\n",
            "Sentiment: Positive\n",
            "Prediction Score: 0.735712468624115\n"
          ]
        }
      ]
    },
    {
      "cell_type": "code",
      "source": [],
      "metadata": {
        "id": "J0GpOYHuckk6"
      },
      "execution_count": null,
      "outputs": []
    }
  ]
}